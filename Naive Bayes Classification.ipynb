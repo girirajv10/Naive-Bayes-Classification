{
 "cells": [
  {
   "cell_type": "markdown",
   "metadata": {},
   "source": [
    "# Naive Bayes Classification\n",
    "## By Giriraj Vaishnav"
   ]
  },
  {
   "cell_type": "markdown",
   "metadata": {},
   "source": [
    "## 1. Importing the required libraries"
   ]
  },
  {
   "cell_type": "code",
   "execution_count": 1,
   "metadata": {},
   "outputs": [],
   "source": [
    "import pandas as pd\n",
    "import numpy as np\n",
    "import matplotlib.pyplot as plt\n",
    "import seaborn as sns\n",
    "from sklearn.model_selection import train_test_split\n",
    "from sklearn.metrics import classification_report, confusion_matrix\n",
    "from sklearn.preprocessing import LabelEncoder\n",
    "from sklearn.preprocessing import StandardScaler\n",
    "from sklearn.naive_bayes import GaussianNB\n",
    "%matplotlib inline"
   ]
  },
  {
   "cell_type": "markdown",
   "metadata": {},
   "source": [
    "## 2. Reading the csv file"
   ]
  },
  {
   "cell_type": "code",
   "execution_count": 3,
   "metadata": {},
   "outputs": [
    {
     "data": {
      "text/html": [
       "<div>\n",
       "<style scoped>\n",
       "    .dataframe tbody tr th:only-of-type {\n",
       "        vertical-align: middle;\n",
       "    }\n",
       "\n",
       "    .dataframe tbody tr th {\n",
       "        vertical-align: top;\n",
       "    }\n",
       "\n",
       "    .dataframe thead th {\n",
       "        text-align: right;\n",
       "    }\n",
       "</style>\n",
       "<table border=\"1\" class=\"dataframe\">\n",
       "  <thead>\n",
       "    <tr style=\"text-align: right;\">\n",
       "      <th></th>\n",
       "      <th>User ID</th>\n",
       "      <th>Gender</th>\n",
       "      <th>Age</th>\n",
       "      <th>EstimatedSalary</th>\n",
       "      <th>Purchased</th>\n",
       "    </tr>\n",
       "  </thead>\n",
       "  <tbody>\n",
       "    <tr>\n",
       "      <th>0</th>\n",
       "      <td>15624510</td>\n",
       "      <td>Male</td>\n",
       "      <td>19</td>\n",
       "      <td>19000</td>\n",
       "      <td>0</td>\n",
       "    </tr>\n",
       "    <tr>\n",
       "      <th>1</th>\n",
       "      <td>15810944</td>\n",
       "      <td>Male</td>\n",
       "      <td>35</td>\n",
       "      <td>20000</td>\n",
       "      <td>0</td>\n",
       "    </tr>\n",
       "    <tr>\n",
       "      <th>2</th>\n",
       "      <td>15668575</td>\n",
       "      <td>Female</td>\n",
       "      <td>26</td>\n",
       "      <td>43000</td>\n",
       "      <td>0</td>\n",
       "    </tr>\n",
       "    <tr>\n",
       "      <th>3</th>\n",
       "      <td>15603246</td>\n",
       "      <td>Female</td>\n",
       "      <td>27</td>\n",
       "      <td>57000</td>\n",
       "      <td>0</td>\n",
       "    </tr>\n",
       "    <tr>\n",
       "      <th>4</th>\n",
       "      <td>15804002</td>\n",
       "      <td>Male</td>\n",
       "      <td>19</td>\n",
       "      <td>76000</td>\n",
       "      <td>0</td>\n",
       "    </tr>\n",
       "  </tbody>\n",
       "</table>\n",
       "</div>"
      ],
      "text/plain": [
       "    User ID  Gender  Age  EstimatedSalary  Purchased\n",
       "0  15624510    Male   19            19000          0\n",
       "1  15810944    Male   35            20000          0\n",
       "2  15668575  Female   26            43000          0\n",
       "3  15603246  Female   27            57000          0\n",
       "4  15804002    Male   19            76000          0"
      ]
     },
     "execution_count": 3,
     "metadata": {},
     "output_type": "execute_result"
    }
   ],
   "source": [
    "df = pd.read_csv('Social_Network_Ads.csv')\n",
    "df.head()"
   ]
  },
  {
   "cell_type": "markdown",
   "metadata": {},
   "source": [
    "## 3. Divide the data into\"Attributes\" and \"labels\""
   ]
  },
  {
   "cell_type": "code",
   "execution_count": 4,
   "metadata": {},
   "outputs": [],
   "source": [
    "X = df.iloc[:, [1, 2, 3]].values\n",
    "\n",
    "y = df.iloc[:, -1].values"
   ]
  },
  {
   "cell_type": "markdown",
   "metadata": {},
   "source": [
    "## 4. Label Encoding for Gender"
   ]
  },
  {
   "cell_type": "code",
   "execution_count": 5,
   "metadata": {},
   "outputs": [],
   "source": [
    "from sklearn.preprocessing import LabelEncoder\n",
    "le = LabelEncoder()\n",
    "X[:,0] = le.fit_transform(X[:,0])"
   ]
  },
  {
   "cell_type": "markdown",
   "metadata": {},
   "source": [
    "## 5. Splitting the data into train and test"
   ]
  },
  {
   "cell_type": "code",
   "execution_count": 6,
   "metadata": {},
   "outputs": [
    {
     "data": {
      "text/plain": [
       "((280, 3), (120, 3))"
      ]
     },
     "execution_count": 6,
     "metadata": {},
     "output_type": "execute_result"
    }
   ],
   "source": [
    "X_train, X_test, y_train, y_test = train_test_split(X, y, train_size=0.7, random_state=42)\n",
    "X_train.shape, X_test.shape"
   ]
  },
  {
   "cell_type": "markdown",
   "metadata": {},
   "source": [
    "## 6. Feature Scaling"
   ]
  },
  {
   "cell_type": "code",
   "execution_count": 7,
   "metadata": {},
   "outputs": [],
   "source": [
    "sc = StandardScaler()\n",
    "X_train = sc.fit_transform(X_train)\n",
    "X_test = sc.transform(X_test)"
   ]
  },
  {
   "cell_type": "markdown",
   "metadata": {},
   "source": [
    "## 7. Create a Model and Train it"
   ]
  },
  {
   "cell_type": "code",
   "execution_count": 8,
   "metadata": {},
   "outputs": [
    {
     "name": "stdout",
     "output_type": "stream",
     "text": [
      "Wall time: 67 ms\n"
     ]
    },
    {
     "data": {
      "text/plain": [
       "GaussianNB()"
      ]
     },
     "execution_count": 8,
     "metadata": {},
     "output_type": "execute_result"
    }
   ],
   "source": [
    "%%time\n",
    "classifier = GaussianNB()\n",
    "\n",
    "classifier.fit(X_train, y_train)"
   ]
  },
  {
   "cell_type": "markdown",
   "metadata": {},
   "source": [
    "## 8. Evaluating the Model"
   ]
  },
  {
   "cell_type": "code",
   "execution_count": 9,
   "metadata": {},
   "outputs": [
    {
     "name": "stdout",
     "output_type": "stream",
     "text": [
      "\n",
      "Prediction Probability : \n",
      " [[0.49168487 0.50831513]\n",
      " [0.03529242 0.96470758]\n",
      " [0.96822252 0.03177748]\n",
      " [0.19348303 0.80651697]\n",
      " [0.95656559 0.04343441]\n",
      " [0.95089091 0.04910909]\n",
      " [0.13368316 0.86631684]\n",
      " [0.92717604 0.07282396]\n",
      " [0.74426022 0.25573978]\n",
      " [0.7217969  0.2782031 ]\n",
      " [0.88835284 0.11164716]\n",
      " [0.23175557 0.76824443]\n",
      " [0.98502033 0.01497967]\n",
      " [0.98731368 0.01268632]\n",
      " [0.91258834 0.08741166]\n",
      " [0.5949539  0.4050461 ]\n",
      " [0.27824734 0.72175266]\n",
      " [0.46364161 0.53635839]\n",
      " [0.84288887 0.15711113]\n",
      " [0.15121053 0.84878947]\n",
      " [0.98448578 0.01551422]\n",
      " [0.9416193  0.0583807 ]\n",
      " [0.48094468 0.51905532]\n",
      " [0.05427914 0.94572086]\n",
      " [0.98921819 0.01078181]\n",
      " [0.29604802 0.70395198]\n",
      " [0.63150649 0.36849351]\n",
      " [0.88246693 0.11753307]\n",
      " [0.00824041 0.99175959]\n",
      " [0.9884276  0.0115724 ]\n",
      " [0.56261024 0.43738976]\n",
      " [0.98999353 0.01000647]\n",
      " [0.05804654 0.94195346]\n",
      " [0.95143295 0.04856705]\n",
      " [0.39358165 0.60641835]\n",
      " [0.87534295 0.12465705]\n",
      " [0.88071253 0.11928747]\n",
      " [0.82507189 0.17492811]\n",
      " [0.97647002 0.02352998]\n",
      " [0.99060307 0.00939693]\n",
      " [0.4788778  0.5211222 ]\n",
      " [0.98192771 0.01807229]\n",
      " [0.99342402 0.00657598]\n",
      " [0.46195653 0.53804347]\n",
      " [0.99140792 0.00859208]\n",
      " [0.02060341 0.97939659]\n",
      " [0.96325739 0.03674261]\n",
      " [0.93134366 0.06865634]\n",
      " [0.4974257  0.5025743 ]\n",
      " [0.91904939 0.08095061]\n",
      " [0.96900187 0.03099813]\n",
      " [0.14166817 0.85833183]\n",
      " [0.8452133  0.1547867 ]\n",
      " [0.96793535 0.03206465]\n",
      " [0.78793988 0.21206012]\n",
      " [0.9695412  0.0304588 ]\n",
      " [0.01607412 0.98392588]\n",
      " [0.73690073 0.26309927]\n",
      " [0.93401491 0.06598509]\n",
      " [0.93018719 0.06981281]\n",
      " [0.766272   0.233728  ]\n",
      " [0.90020492 0.09979508]\n",
      " [0.12663417 0.87336583]\n",
      " [0.92696513 0.07303487]\n",
      " [0.96938442 0.03061558]\n",
      " [0.32340593 0.67659407]\n",
      " [0.50167435 0.49832565]\n",
      " [0.00716348 0.99283652]\n",
      " [0.81357781 0.18642219]\n",
      " [0.56524303 0.43475697]\n",
      " [0.00481971 0.99518029]\n",
      " [0.98372545 0.01627455]\n",
      " [0.97406444 0.02593556]\n",
      " [0.98137106 0.01862894]\n",
      " [0.53073214 0.46926786]\n",
      " [0.90505397 0.09494603]\n",
      " [0.00381184 0.99618816]\n",
      " [0.17700927 0.82299073]\n",
      " [0.90574317 0.09425683]\n",
      " [0.79921078 0.20078922]\n",
      " [0.97103899 0.02896101]\n",
      " [0.55547145 0.44452855]\n",
      " [0.0778099  0.9221901 ]\n",
      " [0.65012254 0.34987746]\n",
      " [0.10290646 0.89709354]\n",
      " [0.51023345 0.48976655]\n",
      " [0.78702187 0.21297813]\n",
      " [0.39945165 0.60054835]\n",
      " [0.95356158 0.04643842]\n",
      " [0.97858621 0.02141379]\n",
      " [0.26314409 0.73685591]\n",
      " [0.88664681 0.11335319]\n",
      " [0.80518888 0.19481112]\n",
      " [0.64491789 0.35508211]\n",
      " [0.96744932 0.03255068]\n",
      " [0.72973908 0.27026092]\n",
      " [0.00262909 0.99737091]\n",
      " [0.72566089 0.27433911]\n",
      " [0.00240911 0.99759089]\n",
      " [0.57162046 0.42837954]\n",
      " [0.00690037 0.99309963]\n",
      " [0.77474146 0.22525854]\n",
      " [0.49233751 0.50766249]\n",
      " [0.97782879 0.02217121]\n",
      " [0.88916397 0.11083603]\n",
      " [0.05394402 0.94605598]\n",
      " [0.43238789 0.56761211]\n",
      " [0.78296195 0.21703805]\n",
      " [0.07224952 0.92775048]\n",
      " [0.85165569 0.14834431]\n",
      " [0.93165389 0.06834611]\n",
      " [0.79588493 0.20411507]\n",
      " [0.19194271 0.80805729]\n",
      " [0.41467738 0.58532262]\n",
      " [0.19167189 0.80832811]\n",
      " [0.96617908 0.03382092]\n",
      " [0.96432503 0.03567497]\n",
      " [0.68218278 0.31781722]\n",
      " [0.75189811 0.24810189]\n",
      " [0.90641069 0.09358931]]\n",
      "\n",
      "Prediction :  [1 1 0 1 0 0 1 0 0 0 0 1 0 0 0 0 1 1 0 1 0 0 1 1 0 1 0 0 1 0 0 0 1 0 1 0 0\n",
      " 0 0 0 1 0 0 1 0 1 0 0 1 0 0 1 0 0 0 0 1 0 0 0 0 0 1 0 0 1 0 1 0 0 1 0 0 0\n",
      " 0 0 1 1 0 0 0 0 1 0 1 0 0 1 0 0 1 0 0 0 0 0 1 0 1 0 1 0 1 0 0 1 1 0 1 0 0\n",
      " 0 1 1 1 0 0 0 0 0]\n",
      "\n",
      "Score :  0.9083333333333333\n"
     ]
    }
   ],
   "source": [
    "print(\"\\nPrediction Probability : \\n\",classifier.predict_proba(X_test))\n",
    "\n",
    "print(\"\\nPrediction : \",classifier.predict(X_test))\n",
    "\n",
    "print(\"\\nScore : \",classifier.score(X_test, y_test))"
   ]
  },
  {
   "cell_type": "markdown",
   "metadata": {},
   "source": [
    "## 9. Print Confusion Matrix"
   ]
  },
  {
   "cell_type": "code",
   "execution_count": 10,
   "metadata": {},
   "outputs": [
    {
     "name": "stdout",
     "output_type": "stream",
     "text": [
      "\n",
      "Confusion Matrix : \n",
      " [[71  2]\n",
      " [ 9 38]]\n"
     ]
    }
   ],
   "source": [
    "print(\"\\nConfusion Matrix : \\n\",confusion_matrix(y_test, classifier.predict(X_test)))"
   ]
  },
  {
   "cell_type": "markdown",
   "metadata": {},
   "source": [
    "## 10. Plot Confusion Matrix"
   ]
  },
  {
   "cell_type": "code",
   "execution_count": 11,
   "metadata": {},
   "outputs": [
    {
     "data": {
      "image/png": "[encoded data removed]",
      "text/plain": [
       "<Figure size 720x504 with 2 Axes>"
      ]
     },
     "metadata": {
      "needs_background": "light"
     },
     "output_type": "display_data"
    }
   ],
   "source": [
    "cm = confusion_matrix(y_test, classifier.predict(X_test))\n",
    "\n",
    "df_cm = pd.DataFrame(cm, range(2), range(2))\n",
    "plt.figure(figsize=(10,7))\n",
    "sns.set(font_scale=1.4) # for label size\n",
    "sns.heatmap(df_cm, annot=True, annot_kws={\"size\": 16}) # font size\n",
    "\n",
    "plt.show()"
   ]
  },
  {
   "cell_type": "markdown",
   "metadata": {},
   "source": [
    "## 11. Print Classification Report"
   ]
  },
  {
   "cell_type": "code",
   "execution_count": 12,
   "metadata": {},
   "outputs": [
    {
     "name": "stdout",
     "output_type": "stream",
     "text": [
      "              precision    recall  f1-score   support\n",
      "\n",
      "           0       0.89      0.97      0.93        73\n",
      "           1       0.95      0.81      0.87        47\n",
      "\n",
      "    accuracy                           0.91       120\n",
      "   macro avg       0.92      0.89      0.90       120\n",
      "weighted avg       0.91      0.91      0.91       120\n",
      "\n"
     ]
    }
   ],
   "source": [
    "print(classification_report(y_test, classifier.predict(X_test)))"
   ]
  }
 ],
 "metadata": {
  "kernelspec": {
   "display_name": "Python 3",
   "language": "python",
   "name": "python3"
  },
  "language_info": {
   "codemirror_mode": {
    "name": "ipython",
    "version": 3
   },
   "file_extension": ".py",
   "mimetype": "text/x-python",
   "name": "python",
   "nbconvert_exporter": "python",
   "pygments_lexer": "ipython3",
   "version": "3.8.3"
  }
 },
 "nbformat": 4,
 "nbformat_minor": 4
}
